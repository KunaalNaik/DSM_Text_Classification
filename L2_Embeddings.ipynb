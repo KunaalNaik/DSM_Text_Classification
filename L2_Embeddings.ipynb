{
 "cells": [
  {
   "cell_type": "code",
   "execution_count": 2,
   "id": "9d6e99be-d562-445e-a867-6198298f07e3",
   "metadata": {},
   "outputs": [],
   "source": [
    "import pandas as pd\n",
    "from sentence_transformers import SentenceTransformer\n",
    "import numpy as np"
   ]
  },
  {
   "cell_type": "code",
   "execution_count": 4,
   "id": "8f3fca78-baf4-41c0-9f71-7a60ce3ef70d",
   "metadata": {},
   "outputs": [],
   "source": [
    "import os\n",
    "os.environ[\"HF_HUB_DISABLE_SYMLINKS_WARNING\"] = \"1\""
   ]
  },
  {
   "cell_type": "code",
   "execution_count": 5,
   "id": "3438a200-56c8-43cd-9114-fbc1002e3e1e",
   "metadata": {},
   "outputs": [],
   "source": [
    "# Load dataset\n",
    "df = pd.read_csv('input_train_data.csv')  # columns: answer, category, subcategory\n",
    "\n",
    "# Load model\n",
    "model = SentenceTransformer('all-MiniLM-L6-v2')"
   ]
  },
  {
   "cell_type": "code",
   "execution_count": 6,
   "id": "9acbe0c1-b28f-4be6-8e26-1de12b08f4f9",
   "metadata": {},
   "outputs": [
    {
     "name": "stderr",
     "output_type": "stream",
     "text": [
      "Batches: 100%|██████████| 4/4 [00:00<00:00, 32.48it/s]\n"
     ]
    }
   ],
   "source": [
    "# Generate embeddings with progress bar\n",
    "answer_embeddings = model.encode(df['answer'].tolist(), show_progress_bar=True)"
   ]
  },
  {
   "cell_type": "code",
   "execution_count": 7,
   "id": "18a5a1a6-e32b-4a88-bb62-7a3037c2cecd",
   "metadata": {},
   "outputs": [
    {
     "name": "stderr",
     "output_type": "stream",
     "text": [
      "Batches: 100%|██████████| 4/4 [00:00<00:00, 71.67it/s]\n",
      "Batches: 100%|██████████| 4/4 [00:00<00:00, 76.16it/s]\n"
     ]
    }
   ],
   "source": [
    "category_embeddings = model.encode(df['category'].tolist(), show_progress_bar=True)\n",
    "subcategory_embeddings = model.encode(df['subcategory'].tolist(), show_progress_bar=True)"
   ]
  },
  {
   "cell_type": "code",
   "execution_count": 8,
   "id": "85c6b928-ff6f-4d47-bfc1-61736f53d846",
   "metadata": {},
   "outputs": [],
   "source": [
    "# Save embeddings\n",
    "np.save('answer_embeddings.npy', answer_embeddings)\n",
    "np.save('category_embeddings.npy', category_embeddings)\n",
    "np.save('subcategory_embeddings.npy', subcategory_embeddings)"
   ]
  },
  {
   "cell_type": "code",
   "execution_count": 9,
   "id": "a510c024-ffef-4557-bfb3-1f9b6abf5f04",
   "metadata": {},
   "outputs": [],
   "source": [
    "# Save original data without embeddings\n",
    "df.to_csv('data_with_embeddings.csv', index=False)"
   ]
  },
  {
   "cell_type": "code",
   "execution_count": null,
   "id": "af441677-7fa2-4315-88a0-c7b009702d08",
   "metadata": {},
   "outputs": [],
   "source": []
  }
 ],
 "metadata": {
  "kernelspec": {
   "display_name": "Python 3 (ipykernel)",
   "language": "python",
   "name": "python3"
  },
  "language_info": {
   "codemirror_mode": {
    "name": "ipython",
    "version": 3
   },
   "file_extension": ".py",
   "mimetype": "text/x-python",
   "name": "python",
   "nbconvert_exporter": "python",
   "pygments_lexer": "ipython3",
   "version": "3.10.16"
  }
 },
 "nbformat": 4,
 "nbformat_minor": 5
}
