{
 "cells": [
  {
   "cell_type": "code",
   "execution_count": 1,
   "id": "0ada19d0-1a88-47cb-866e-fa3797f3fb32",
   "metadata": {},
   "outputs": [],
   "source": [
    "import pandas as pd\n",
    "import numpy as np\n",
    "from sklearn.metrics.pairwise import cosine_similarity\n",
    "from sklearn.metrics import classification_report, confusion_matrix, accuracy_score"
   ]
  },
  {
   "cell_type": "code",
   "execution_count": 2,
   "id": "2769dc72-19fc-479c-8c6d-6368283c3e38",
   "metadata": {},
   "outputs": [],
   "source": [
    "df = pd.read_csv('data_with_embeddings.csv')\n",
    "answer_embeddings       = np.load('answer_embeddings.npy')\n",
    "category_embeddings_all = np.load('category_embeddings.npy')"
   ]
  },
  {
   "cell_type": "code",
   "execution_count": 3,
   "id": "7a4875fa-c4e2-4f1e-a634-97a94ebff1dc",
   "metadata": {},
   "outputs": [],
   "source": [
    "# one embedding per unique category\n",
    "_, first_idx = np.unique(df['category'], return_index=True)\n",
    "unique_categories   = df['category'].iloc[first_idx].reset_index(drop=True)\n",
    "category_embeddings = category_embeddings_all[first_idx]"
   ]
  },
  {
   "cell_type": "code",
   "execution_count": 4,
   "id": "483d7fbd-452d-4243-9404-6c465e373b18",
   "metadata": {},
   "outputs": [],
   "source": [
    "# cosine‑similarity matrix: rows=answers, cols=categories\n",
    "sims_matrix = cosine_similarity(answer_embeddings, category_embeddings)"
   ]
  },
  {
   "cell_type": "code",
   "execution_count": 5,
   "id": "c699903c-431e-4c64-bddc-58c2b76e9bfe",
   "metadata": {},
   "outputs": [],
   "source": [
    "# best category for each answer\n",
    "best_idx = sims_matrix.argmax(axis=1)\n",
    "df['predicted_category'] = unique_categories.iloc[best_idx].values\n"
   ]
  },
  {
   "cell_type": "code",
   "execution_count": 26,
   "id": "d9db653f-4815-49ef-8adb-370c7c60aac6",
   "metadata": {},
   "outputs": [],
   "source": [
    "# add similarity columns\n",
    "for i, cat in enumerate(unique_categories):\n",
    "    df[f'sim_{cat}'] = sims_matrix[:, i]\n",
    "\n",
    "df.to_csv('answers_with_predicted_category_and_sims.csv', index=False)"
   ]
  },
  {
   "cell_type": "code",
   "execution_count": 29,
   "id": "1eccea00-048a-4ab4-be36-fc7586b0e466",
   "metadata": {},
   "outputs": [
    {
     "name": "stdout",
     "output_type": "stream",
     "text": [
      "Accuracy: 0.77\n",
      "                   precision    recall  f1-score   support\n",
      "\n",
      "    Career Growth     1.0000    1.0000    1.0000        17\n",
      "     Compensation     1.0000    0.6923    0.8182        13\n",
      "         Job Role     0.8000    1.0000    0.8889        12\n",
      "       Management     0.8000    1.0000    0.8889        16\n",
      " Work Environment     0.6250    1.0000    0.7692        20\n",
      "Work-Life Balance     0.0000    0.0000    0.0000        12\n",
      "Workplace Culture     1.0000    0.3000    0.4615        10\n",
      "\n",
      "         accuracy                         0.7700       100\n",
      "        macro avg     0.7464    0.7132    0.6895       100\n",
      "     weighted avg     0.7490    0.7700    0.7253       100\n",
      "\n"
     ]
    }
   ],
   "source": [
    "# classification metrics\n",
    "y_true = df['category']\n",
    "y_pred = df['predicted_category']\n",
    "\n",
    "print(\"Accuracy:\", accuracy_score(y_true, y_pred))\n",
    "print(classification_report(y_true, y_pred, digits=4))"
   ]
  },
  {
   "cell_type": "code",
   "execution_count": 30,
   "id": "deda4cb3-1ae1-4e6b-9781-c74a9dae0188",
   "metadata": {},
   "outputs": [],
   "source": [
    "conf_mat = pd.DataFrame(\n",
    "    confusion_matrix(y_true, y_pred, labels=unique_categories),\n",
    "    index=unique_categories,\n",
    "    columns=unique_categories,\n",
    ")\n",
    "conf_mat.to_csv('confusion_matrix.csv')"
   ]
  },
  {
   "cell_type": "code",
   "execution_count": null,
   "id": "cb4bc9bd-9263-4844-8e04-e1f6f5b0c12a",
   "metadata": {},
   "outputs": [],
   "source": []
  }
 ],
 "metadata": {
  "kernelspec": {
   "display_name": "Python 3 (ipykernel)",
   "language": "python",
   "name": "python3"
  },
  "language_info": {
   "codemirror_mode": {
    "name": "ipython",
    "version": 3
   },
   "file_extension": ".py",
   "mimetype": "text/x-python",
   "name": "python",
   "nbconvert_exporter": "python",
   "pygments_lexer": "ipython3",
   "version": "3.10.16"
  }
 },
 "nbformat": 4,
 "nbformat_minor": 5
}
