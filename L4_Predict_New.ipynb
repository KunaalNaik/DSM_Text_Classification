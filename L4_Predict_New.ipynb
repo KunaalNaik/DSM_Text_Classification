{
 "cells": [
  {
   "cell_type": "code",
   "execution_count": 6,
   "id": "5ad6a84c-4fa8-4f45-b678-b33a8a6c32ce",
   "metadata": {},
   "outputs": [],
   "source": [
    "import pandas as pd\n",
    "import numpy as np\n",
    "from sklearn.metrics.pairwise import cosine_similarity\n",
    "from sentence_transformers import SentenceTransformer"
   ]
  },
  {
   "cell_type": "code",
   "execution_count": 7,
   "id": "b3543673-42d8-4ea4-b8f3-2af28dcfd785",
   "metadata": {},
   "outputs": [],
   "source": [
    "model = SentenceTransformer('all-MiniLM-L6-v2')"
   ]
  },
  {
   "cell_type": "code",
   "execution_count": 9,
   "id": "db8105d1-d995-48a4-9bb0-42d902a63bbf",
   "metadata": {},
   "outputs": [
    {
     "data": {
      "application/vnd.jupyter.widget-view+json": {
       "model_id": "09be56c755914a29aea644e9b8eef6df",
       "version_major": 2,
       "version_minor": 0
      },
      "text/plain": [
       "Batches:   0%|          | 0/1 [00:00<?, ?it/s]"
      ]
     },
     "metadata": {},
     "output_type": "display_data"
    }
   ],
   "source": [
    "new_df            = pd.read_csv('input_new_data.csv')                      # answer\n",
    "unique_categories = pd.read_csv('data_with_embeddings.csv')['category'].drop_duplicates().reset_index(drop=True)\n",
    "cat_emb_unique    = model.encode(unique_categories.tolist(), show_progress_bar=True)"
   ]
  },
  {
   "cell_type": "code",
   "execution_count": null,
   "id": "04072cdb-4fd6-4efb-9d32-25c3965f5c4d",
   "metadata": {},
   "outputs": [],
   "source": [
    "predicted_categories = [\n",
    "    unique_categories.iloc[np.argmax(cosine_similarity([model.encode(ans)], cat_emb_unique)[0])]\n",
    "    for ans in new_df['answer']\n",
    "]"
   ]
  },
  {
   "cell_type": "code",
   "execution_count": null,
   "id": "ea0b48e4-93f6-4633-9a30-7a185e309643",
   "metadata": {},
   "outputs": [],
   "source": [
    "new_df['predicted_category'] = predicted_categories\n",
    "new_df.to_csv('new_answers_with_category.csv', index=False)"
   ]
  }
 ],
 "metadata": {
  "kernelspec": {
   "display_name": "Python 3 (ipykernel)",
   "language": "python",
   "name": "python3"
  },
  "language_info": {
   "codemirror_mode": {
    "name": "ipython",
    "version": 3
   },
   "file_extension": ".py",
   "mimetype": "text/x-python",
   "name": "python",
   "nbconvert_exporter": "python",
   "pygments_lexer": "ipython3",
   "version": "3.10.16"
  }
 },
 "nbformat": 4,
 "nbformat_minor": 5
}
