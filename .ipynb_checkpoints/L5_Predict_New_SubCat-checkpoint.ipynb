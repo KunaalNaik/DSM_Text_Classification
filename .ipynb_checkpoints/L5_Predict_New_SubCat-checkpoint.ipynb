{
 "cells": [
  {
   "cell_type": "code",
   "execution_count": 6,
   "id": "5ad6a84c-4fa8-4f45-b678-b33a8a6c32ce",
   "metadata": {},
   "outputs": [],
   "source": [
    "# Notebook 4 – predict_subcategories_for_training_data.ipynb\n",
    "import pandas as pd, numpy as np, pickle\n",
    "from sentence_transformers import SentenceTransformer\n",
    "from sklearn.metrics.pairwise import cosine_similarity\n",
    "from sklearn.metrics import classification_report, accuracy_score\n",
    "\n",
    "df                = pd.read_csv('data_with_embeddings.csv')\n",
    "answer_emb        = np.load('answer_embeddings.npy')\n",
    "\n",
    "model             = SentenceTransformer('all-MiniLM-L6-v2')\n",
    "\n",
    "pairs             = df[['category','subcategory']].drop_duplicates().reset_index(drop=True)\n",
    "subcat_emb        = model.encode(pairs['subcategory'].tolist(), show_progress_bar=True)\n",
    "\n",
    "# map category → indices of its sub‑categories in `pairs`\n",
    "cat_to_idx = {}\n",
    "for i,(cat,_) in pairs.iterrows():\n",
    "    cat_to_idx.setdefault(cat, []).append(i)\n",
    "\n",
    "pred_subcats, sims_best = [], []\n",
    "for idx, row in df.iterrows():\n",
    "    cat = row['category']\n",
    "    idxs = cat_to_idx[cat]\n",
    "    sims = cosine_similarity([answer_emb[idx]], subcat_emb[idxs])[0]\n",
    "    best_local = sims.argmax()\n",
    "    pred_subcats.append(pairs.iloc[idxs[best_local]]['subcategory'])\n",
    "    sims_best.append(sims[best_local])\n",
    "\n",
    "df['predicted_subcategory'] = pred_subcats\n",
    "df['sim_best_subcat']       = sims_best\n",
    "df.to_csv('answers_with_predicted_subcategory.csv', index=False)\n",
    "\n",
    "print(\"Sub‑category accuracy:\", accuracy_score(df['subcategory'], df['predicted_subcategory']))\n",
    "print(classification_report(df['subcategory'], df['predicted_subcategory'], digits=4))\n",
    "\n",
    "# save mapping and embeddings for reuse\n",
    "with open('subcat_mapping.pkl', 'wb') as f:\n",
    "    pickle.dump((pairs, subcat_emb, cat_to_idx), f)\n"
   ]
  },
  {
   "cell_type": "code",
   "execution_count": null,
   "id": "fd27dffd-1e03-4603-86de-1f1f61bea4a9",
   "metadata": {},
   "outputs": [],
   "source": []
  }
 ],
 "metadata": {
  "kernelspec": {
   "display_name": "Python 3 (ipykernel)",
   "language": "python",
   "name": "python3"
  },
  "language_info": {
   "codemirror_mode": {
    "name": "ipython",
    "version": 3
   },
   "file_extension": ".py",
   "mimetype": "text/x-python",
   "name": "python",
   "nbconvert_exporter": "python",
   "pygments_lexer": "ipython3",
   "version": "3.12.3"
  }
 },
 "nbformat": 4,
 "nbformat_minor": 5
}
